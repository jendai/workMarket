{
 "metadata": {
  "name": "",
  "signature": "sha256:e918cfbe1f2ee924d78398b59c269f1e5f9f1f1064c905329782775cc6f36381"
 },
 "nbformat": 3,
 "nbformat_minor": 0,
 "worksheets": []
}