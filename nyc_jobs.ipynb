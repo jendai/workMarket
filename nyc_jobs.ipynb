{
 "metadata": {
  "name": "",
  "signature": "sha256:724401331a6095027e6e3678429e2229bcb05bb00a6983253d9d716b17b91ade"
 },
 "nbformat": 3,
 "nbformat_minor": 0,
 "worksheets": [
  {
   "cells": [
    {
     "cell_type": "code",
     "collapsed": false,
     "input": [
      "%matplotlib inline\n",
      "import matplotlib.pyplot as plt\n",
      "import matplotlib.pylab as pylab\n",
      "import seaborn as sns\n",
      "import pandas as pd"
     ],
     "language": "python",
     "metadata": {},
     "outputs": [],
     "prompt_number": 2
    },
    {
     "cell_type": "markdown",
     "metadata": {},
     "source": [
      "#### Determine:\n",
      "\n",
      "* Who has the most openings?\n",
      "\n",
      "  DEPT OF HEALTH/MENTAL HYGIENE has 663 openings\n",
      "  \n",
      "  \n",
      "* Which departments have the highest and the lowest paying positions (based on current job openings)?\n",
      "\n",
      "    ADMIN TRIALS AND HEARINGS has the lowest starting average salary range from 25997 per year.\n",
      "    \n",
      "    FINANCIAL INFO SVCS AGENCY has the highest starting average salary range from 81745 per year.\n",
      "    \n",
      "    \n",
      "* Which jobs do you think are the hardest to fill? (What makes you say that?)\n",
      "\n",
      "    Senior level jobs are the hardest to fill because they either require extensive experience or high education degree.  By searching key words from Business Title and Civil Service Title.\n",
      "    The following jobs are the hardes to fill:\n",
      "        {'Chief of Microbiology Services',\n",
      "         'Deputy Chief',\n",
      "         'Deputy Plant Chief',\n",
      "          'Section Chief for Environmental Water & Sciences, Bureau of Environmental Sciences and Engineering',\n",
      "           'Unit Chief, Radioactive Materials Licensing, Bureau of Environmental Sciences and Engineering'} "
     ]
    },
    {
     "cell_type": "code",
     "collapsed": false,
     "input": [
      "job_df = pd.read_csv('NYC_Jobs.csv')"
     ],
     "language": "python",
     "metadata": {},
     "outputs": [],
     "prompt_number": 3
    },
    {
     "cell_type": "code",
     "collapsed": false,
     "input": [
      "job_df.shape"
     ],
     "language": "python",
     "metadata": {},
     "outputs": [
      {
       "metadata": {},
       "output_type": "pyout",
       "prompt_number": 5,
       "text": [
        "(2676, 26)"
       ]
      }
     ],
     "prompt_number": 5
    },
    {
     "cell_type": "code",
     "collapsed": false,
     "input": [
      "vacancy_groups = job_df.groupby('Agency')"
     ],
     "language": "python",
     "metadata": {},
     "outputs": [],
     "prompt_number": 4
    },
    {
     "cell_type": "code",
     "collapsed": false,
     "input": [
      "vac_count = vacancy_groups.count()['# Of Positions'].reset_index()"
     ],
     "language": "python",
     "metadata": {},
     "outputs": [],
     "prompt_number": 5
    },
    {
     "cell_type": "code",
     "collapsed": false,
     "input": [
      "vac_count = vac_count.sort(['# Of Positions'], ascending=False)"
     ],
     "language": "python",
     "metadata": {},
     "outputs": [],
     "prompt_number": 6
    },
    {
     "cell_type": "code",
     "collapsed": false,
     "input": [
      "vac_count.head(1)"
     ],
     "language": "python",
     "metadata": {},
     "outputs": [
      {
       "html": [
        "<div style=\"max-height:1000px;max-width:1500px;overflow:auto;\">\n",
        "<table border=\"1\" class=\"dataframe\">\n",
        "  <thead>\n",
        "    <tr style=\"text-align: right;\">\n",
        "      <th></th>\n",
        "      <th>Agency</th>\n",
        "      <th># Of Positions</th>\n",
        "    </tr>\n",
        "  </thead>\n",
        "  <tbody>\n",
        "    <tr>\n",
        "      <th>20</th>\n",
        "      <td> DEPT OF HEALTH/MENTAL HYGIENE</td>\n",
        "      <td> 663</td>\n",
        "    </tr>\n",
        "  </tbody>\n",
        "</table>\n",
        "</div>"
       ],
       "metadata": {},
       "output_type": "pyout",
       "prompt_number": 135,
       "text": [
        "                           Agency  # Of Positions\n",
        "20  DEPT OF HEALTH/MENTAL HYGIENE             663"
       ]
      }
     ],
     "prompt_number": 135
    },
    {
     "cell_type": "markdown",
     "metadata": {},
     "source": [
      "* Who has the most opennings?\n",
      "\n",
      "DEPT of Health/Mental Hygiene has 663 openings"
     ]
    },
    {
     "cell_type": "code",
     "collapsed": false,
     "input": [
      "#only look at salary jobs not hourly jobs\n",
      "sal_groups = job_df.groupby('Salary Frequency')"
     ],
     "language": "python",
     "metadata": {},
     "outputs": [],
     "prompt_number": 7
    },
    {
     "cell_type": "code",
     "collapsed": false,
     "input": [
      "pay_df = sal_groups.get_group('Annual')"
     ],
     "language": "python",
     "metadata": {},
     "outputs": [],
     "prompt_number": 8
    },
    {
     "cell_type": "code",
     "collapsed": false,
     "input": [
      "sal_range_df = pay_df.groupby(['Salary Range From', 'Agency'])"
     ],
     "language": "python",
     "metadata": {},
     "outputs": [],
     "prompt_number": 9
    },
    {
     "cell_type": "code",
     "collapsed": false,
     "input": [
      "sal_df = pay_df.groupby('Agency').mean()['Salary Range From'].round().reset_index()\n",
      "sal_df = sal_df.sort(['Salary Range From'])"
     ],
     "language": "python",
     "metadata": {},
     "outputs": [],
     "prompt_number": 10
    },
    {
     "cell_type": "code",
     "collapsed": false,
     "input": [
      "sal_df.head(1)"
     ],
     "language": "python",
     "metadata": {},
     "outputs": [
      {
       "html": [
        "<div style=\"max-height:1000px;max-width:1500px;overflow:auto;\">\n",
        "<table border=\"1\" class=\"dataframe\">\n",
        "  <thead>\n",
        "    <tr style=\"text-align: right;\">\n",
        "      <th></th>\n",
        "      <th>Agency</th>\n",
        "      <th>Salary Range From</th>\n",
        "    </tr>\n",
        "  </thead>\n",
        "  <tbody>\n",
        "    <tr>\n",
        "      <th>1</th>\n",
        "      <td> ADMIN TRIALS AND HEARINGS</td>\n",
        "      <td> 25997</td>\n",
        "    </tr>\n",
        "  </tbody>\n",
        "</table>\n",
        "</div>"
       ],
       "metadata": {},
       "output_type": "pyout",
       "prompt_number": 177,
       "text": [
        "                      Agency  Salary Range From\n",
        "1  ADMIN TRIALS AND HEARINGS              25997"
       ]
      }
     ],
     "prompt_number": 177
    },
    {
     "cell_type": "code",
     "collapsed": false,
     "input": [
      "sal_df.tail(1)"
     ],
     "language": "python",
     "metadata": {},
     "outputs": [
      {
       "html": [
        "<div style=\"max-height:1000px;max-width:1500px;overflow:auto;\">\n",
        "<table border=\"1\" class=\"dataframe\">\n",
        "  <thead>\n",
        "    <tr style=\"text-align: right;\">\n",
        "      <th></th>\n",
        "      <th>Agency</th>\n",
        "      <th>Salary Range From</th>\n",
        "    </tr>\n",
        "  </thead>\n",
        "  <tbody>\n",
        "    <tr>\n",
        "      <th>29</th>\n",
        "      <td> FINANCIAL INFO SVCS AGENCY</td>\n",
        "      <td> 81745</td>\n",
        "    </tr>\n",
        "  </tbody>\n",
        "</table>\n",
        "</div>"
       ],
       "metadata": {},
       "output_type": "pyout",
       "prompt_number": 178,
       "text": [
        "                        Agency  Salary Range From\n",
        "29  FINANCIAL INFO SVCS AGENCY              81745"
       ]
      }
     ],
     "prompt_number": 178
    },
    {
     "cell_type": "code",
     "collapsed": false,
     "input": [
      "sal_median = pay_df.groupby('Agency').median()['Salary Range From'].round().reset_index()\n",
      "sal_median = sal_df.sort(['Salary Range From'])"
     ],
     "language": "python",
     "metadata": {},
     "outputs": [],
     "prompt_number": 185
    },
    {
     "cell_type": "code",
     "collapsed": false,
     "input": [
      "sal_median.head(1)"
     ],
     "language": "python",
     "metadata": {},
     "outputs": [
      {
       "html": [
        "<div style=\"max-height:1000px;max-width:1500px;overflow:auto;\">\n",
        "<table border=\"1\" class=\"dataframe\">\n",
        "  <thead>\n",
        "    <tr style=\"text-align: right;\">\n",
        "      <th></th>\n",
        "      <th>Agency</th>\n",
        "      <th>Salary Range From</th>\n",
        "    </tr>\n",
        "  </thead>\n",
        "  <tbody>\n",
        "    <tr>\n",
        "      <th>1</th>\n",
        "      <td> ADMIN TRIALS AND HEARINGS</td>\n",
        "      <td> 25997</td>\n",
        "    </tr>\n",
        "  </tbody>\n",
        "</table>\n",
        "</div>"
       ],
       "metadata": {},
       "output_type": "pyout",
       "prompt_number": 186,
       "text": [
        "                      Agency  Salary Range From\n",
        "1  ADMIN TRIALS AND HEARINGS              25997"
       ]
      }
     ],
     "prompt_number": 186
    },
    {
     "cell_type": "code",
     "collapsed": false,
     "input": [
      "sal_median.tail(1)"
     ],
     "language": "python",
     "metadata": {},
     "outputs": [
      {
       "html": [
        "<div style=\"max-height:1000px;max-width:1500px;overflow:auto;\">\n",
        "<table border=\"1\" class=\"dataframe\">\n",
        "  <thead>\n",
        "    <tr style=\"text-align: right;\">\n",
        "      <th></th>\n",
        "      <th>Agency</th>\n",
        "      <th>Salary Range From</th>\n",
        "    </tr>\n",
        "  </thead>\n",
        "  <tbody>\n",
        "    <tr>\n",
        "      <th>29</th>\n",
        "      <td> FINANCIAL INFO SVCS AGENCY</td>\n",
        "      <td> 81745</td>\n",
        "    </tr>\n",
        "  </tbody>\n",
        "</table>\n",
        "</div>"
       ],
       "metadata": {},
       "output_type": "pyout",
       "prompt_number": 187,
       "text": [
        "                        Agency  Salary Range From\n",
        "29  FINANCIAL INFO SVCS AGENCY              81745"
       ]
      }
     ],
     "prompt_number": 187
    },
    {
     "cell_type": "code",
     "collapsed": false,
     "input": [
      "job_df.columns.values"
     ],
     "language": "python",
     "metadata": {},
     "outputs": [
      {
       "metadata": {},
       "output_type": "pyout",
       "prompt_number": 138,
       "text": [
        "array(['Job ID', 'Agency', 'Posting Type', '# Of Positions',\n",
        "       'Business Title', 'Civil Service Title', 'Title Code No', 'Level',\n",
        "       'Salary Range From', 'Salary Range To', 'Salary Frequency',\n",
        "       'Work Location', 'Division/Work Unit', 'Job Description',\n",
        "       'Minimum Qual Requirements', 'Preferred Skills',\n",
        "       'Additional Information', 'To Apply', 'Hours/Shift',\n",
        "       'Work Location 1', 'Recruitment Contact', 'Residency Requirement',\n",
        "       'Posting Date', 'Post Until', 'Posting Updated', 'Process Date'], dtype=object)"
       ]
      }
     ],
     "prompt_number": 138
    },
    {
     "cell_type": "code",
     "collapsed": false,
     "input": [
      "pay_df['Salary Range From']"
     ],
     "language": "python",
     "metadata": {},
     "outputs": [
      {
       "metadata": {},
       "output_type": "pyout",
       "prompt_number": 145,
       "text": [
        "54740"
       ]
      }
     ],
     "prompt_number": 145
    },
    {
     "cell_type": "code",
     "collapsed": false,
     "input": [
      "job_des, job_des_i = 0, 0\n",
      "min_qual, min_qual_i = 0, 0\n",
      "pre_skill, pre_skill_i = 0, 0\n",
      "for i in pay_df.index.values:\n",
      "    tmp = pay_df['Job Description'][i].strip()\n",
      "    tmp2 = pay_df['Preferred Skills'][i].strip()\n",
      "    des = len(tmp)\n",
      "    qul = len(tmp2)\n",
      "    try:\n",
      "        tmp3 = job_df['Minimum Qual Requirements'][i].strip()\n",
      "        skill = len(tmp3)\n",
      "    except:\n",
      "        skill = 0\n",
      "    \n",
      "    if des > job_des:\n",
      "        job_des = des\n",
      "        job_des_i = i\n",
      "    if qul > min_qual:\n",
      "        min_qual = qul\n",
      "        min_qual_i = i\n",
      "    if skill > pre_skill:\n",
      "        pre_skill = skill\n",
      "        pre_skill_i = i"
     ],
     "language": "python",
     "metadata": {},
     "outputs": [],
     "prompt_number": 214
    },
    {
     "cell_type": "code",
     "collapsed": false,
     "input": [
      "pay_df['Post Until'][261]"
     ],
     "language": "python",
     "metadata": {},
     "outputs": [
      {
       "metadata": {},
       "output_type": "pyout",
       "prompt_number": 242,
       "text": [
        "nan"
       ]
      }
     ],
     "prompt_number": 242
    },
    {
     "cell_type": "code",
     "collapsed": false,
     "input": [
      "pay_df['Posting Date'][0]"
     ],
     "language": "python",
     "metadata": {},
     "outputs": [
      {
       "metadata": {},
       "output_type": "pyout",
       "prompt_number": 223,
       "text": [
        "'01/28/2014 00:00:00'"
       ]
      }
     ],
     "prompt_number": 223
    },
    {
     "cell_type": "code",
     "collapsed": false,
     "input": [
      "from datetime import datetime"
     ],
     "language": "python",
     "metadata": {},
     "outputs": [],
     "prompt_number": 221
    },
    {
     "cell_type": "code",
     "collapsed": false,
     "input": [
      "tmp = datetime.strptime(pay_df['Posting Date'][0][0:10], '%m/%d/%Y')\n",
      "tmp2 = datetime.strptime(pay_df['Posting Date'][1][0:10], '%m/%d/%Y')"
     ],
     "language": "python",
     "metadata": {},
     "outputs": [],
     "prompt_number": 232
    },
    {
     "cell_type": "code",
     "collapsed": false,
     "input": [
      "tmp.year, tmp.month, tmp.day"
     ],
     "language": "python",
     "metadata": {},
     "outputs": [
      {
       "metadata": {},
       "output_type": "pyout",
       "prompt_number": 231,
       "text": [
        "(2014, 1, 28)"
       ]
      }
     ],
     "prompt_number": 231
    },
    {
     "cell_type": "code",
     "collapsed": false,
     "input": [
      "tmp, tmp2"
     ],
     "language": "python",
     "metadata": {},
     "outputs": [
      {
       "metadata": {},
       "output_type": "pyout",
       "prompt_number": 233,
       "text": [
        "(datetime.datetime(2014, 1, 28, 0, 0), datetime.datetime(2014, 1, 22, 0, 0))"
       ]
      }
     ],
     "prompt_number": 233
    },
    {
     "cell_type": "code",
     "collapsed": false,
     "input": [
      "l = []\n",
      "l.append(tmp)\n",
      "l.append(tmp2)"
     ],
     "language": "python",
     "metadata": {},
     "outputs": [],
     "prompt_number": 235
    },
    {
     "cell_type": "code",
     "collapsed": false,
     "input": [
      "sorted(l)"
     ],
     "language": "python",
     "metadata": {},
     "outputs": [
      {
       "metadata": {},
       "output_type": "pyout",
       "prompt_number": 237,
       "text": [
        "[datetime.datetime(2014, 1, 22, 0, 0), datetime.datetime(2014, 1, 28, 0, 0)]"
       ]
      }
     ],
     "prompt_number": 237
    },
    {
     "cell_type": "code",
     "collapsed": false,
     "input": [
      "post_date = []\n",
      "for i in pay_df.index.values:\n",
      "    post_date.append(datetime.strptime(pay_df['Posting Date'][i][0:10], '%m/%d/%Y'))"
     ],
     "language": "python",
     "metadata": {},
     "outputs": [],
     "prompt_number": 246
    },
    {
     "cell_type": "code",
     "collapsed": false,
     "input": [
      "pay_df['post_date'] = post_date"
     ],
     "language": "python",
     "metadata": {},
     "outputs": [
      {
       "output_type": "stream",
       "stream": "stderr",
       "text": [
        "-c:1: SettingWithCopyWarning: \n",
        "A value is trying to be set on a copy of a slice from a DataFrame.\n",
        "Try using .loc[row_indexer,col_indexer] = value instead\n",
        "\n",
        "See the the caveats in the documentation: http://pandas.pydata.org/pandas-docs/stable/indexing.html#indexing-view-versus-copy\n"
       ]
      }
     ],
     "prompt_number": 248
    },
    {
     "cell_type": "code",
     "collapsed": false,
     "input": [
      "pay_df = pay_df.sort(['post_date'])"
     ],
     "language": "python",
     "metadata": {},
     "outputs": [],
     "prompt_number": 250
    },
    {
     "cell_type": "code",
     "collapsed": false,
     "input": [
      "top_job = []\n",
      "for i in pay_df.index.values:\n",
      "    if 'Chief' in pay_df['Business Title'][i] and 'SCIENTIST' in pay_df['Civil Service Title'][i]:\n",
      "        #print pay_df['Business Title'][i]\n",
      "        top_job.append(i)\n",
      "    elif 'Chief' in pay_df['Business Title'][i] and 'SENIOR' in pay_df['Civil Service Title'][i]:\n",
      "        top_job.append(i)"
     ],
     "language": "python",
     "metadata": {},
     "outputs": [],
     "prompt_number": 11
    },
    {
     "cell_type": "code",
     "collapsed": false,
     "input": [
      "top_job_df = pay_df\n",
      "for i in top_job_df.index.values:\n",
      "    if i not in top_job:\n",
      "        top_job_df = top_job_df.drop(i)"
     ],
     "language": "python",
     "metadata": {},
     "outputs": [],
     "prompt_number": 12
    },
    {
     "cell_type": "code",
     "collapsed": false,
     "input": [
      "top_job_df"
     ],
     "language": "python",
     "metadata": {},
     "outputs": [
      {
       "html": [
        "<div style=\"max-height:1000px;max-width:1500px;overflow:auto;\">\n",
        "<table border=\"1\" class=\"dataframe\">\n",
        "  <thead>\n",
        "    <tr style=\"text-align: right;\">\n",
        "      <th></th>\n",
        "      <th>Job ID</th>\n",
        "      <th>Agency</th>\n",
        "      <th>Posting Type</th>\n",
        "      <th># Of Positions</th>\n",
        "      <th>Business Title</th>\n",
        "      <th>Civil Service Title</th>\n",
        "      <th>Title Code No</th>\n",
        "      <th>Level</th>\n",
        "      <th>Salary Range From</th>\n",
        "      <th>Salary Range To</th>\n",
        "      <th>...</th>\n",
        "      <th>Additional Information</th>\n",
        "      <th>To Apply</th>\n",
        "      <th>Hours/Shift</th>\n",
        "      <th>Work Location 1</th>\n",
        "      <th>Recruitment Contact</th>\n",
        "      <th>Residency Requirement</th>\n",
        "      <th>Posting Date</th>\n",
        "      <th>Post Until</th>\n",
        "      <th>Posting Updated</th>\n",
        "      <th>Process Date</th>\n",
        "    </tr>\n",
        "  </thead>\n",
        "  <tbody>\n",
        "    <tr>\n",
        "      <th>109 </th>\n",
        "      <td> 114352</td>\n",
        "      <td> DEPT OF ENVIRONMENT PROTECTION</td>\n",
        "      <td> Internal</td>\n",
        "      <td>  5</td>\n",
        "      <td>                                Deputy Plant Chief</td>\n",
        "      <td> SENIOR STATIONARY ENGINEER (EL</td>\n",
        "      <td> 91639</td>\n",
        "      <td> 00</td>\n",
        "      <td> 109850</td>\n",
        "      <td> 109850</td>\n",
        "      <td>...</td>\n",
        "      <td> Appointments are subject to OMB approval    Fo...</td>\n",
        "      <td>                        Click ''Apply Now'' button</td>\n",
        "      <td>       40 per week / day</td>\n",
        "      <td>                              Various</td>\n",
        "      <td>NaN</td>\n",
        "      <td> New York City residency is generally required ...</td>\n",
        "      <td> 12/12/2012 00:00:00</td>\n",
        "      <td>                 NaN</td>\n",
        "      <td> 12/13/2012 00:00:00</td>\n",
        "      <td> 05/05/2015 00:00:00</td>\n",
        "    </tr>\n",
        "    <tr>\n",
        "      <th>133 </th>\n",
        "      <td> 152679</td>\n",
        "      <td> DEPT OF ENVIRONMENT PROTECTION</td>\n",
        "      <td> Internal</td>\n",
        "      <td> 11</td>\n",
        "      <td>                                      Deputy Chief</td>\n",
        "      <td> SENIOR STATIONARY ENGINEER (EL</td>\n",
        "      <td> 91639</td>\n",
        "      <td> 00</td>\n",
        "      <td> 109850</td>\n",
        "      <td> 109850</td>\n",
        "      <td>...</td>\n",
        "      <td> Appointments are subject to OMB approval.    F...</td>\n",
        "      <td>                        Click ''Apply Now'' button</td>\n",
        "      <td> 40 hours per week / day</td>\n",
        "      <td>                              Various</td>\n",
        "      <td>NaN</td>\n",
        "      <td> New York City residency is generally required ...</td>\n",
        "      <td> 06/23/2014 00:00:00</td>\n",
        "      <td>                 NaN</td>\n",
        "      <td> 06/25/2014 00:00:00</td>\n",
        "      <td> 05/05/2015 00:00:00</td>\n",
        "    </tr>\n",
        "    <tr>\n",
        "      <th>183 </th>\n",
        "      <td> 153105</td>\n",
        "      <td>  DEPT OF HEALTH/MENTAL HYGIENE</td>\n",
        "      <td> Internal</td>\n",
        "      <td>  1</td>\n",
        "      <td>                    Chief of Microbiology Services</td>\n",
        "      <td>        CITY RESEARCH SCIENTIST</td>\n",
        "      <td> 21744</td>\n",
        "      <td> 4B</td>\n",
        "      <td>  81595</td>\n",
        "      <td> 118597</td>\n",
        "      <td>...</td>\n",
        "      <td>                      ** Position # 352043 (Grant)</td>\n",
        "      <td> Apply online with a cover letter to https://a1...</td>\n",
        "      <td>                        </td>\n",
        "      <td>                 455 First Ave., N.Y.</td>\n",
        "      <td>NaN</td>\n",
        "      <td> New York City residency is generally required ...</td>\n",
        "      <td> 07/01/2014 00:00:00</td>\n",
        "      <td>                 NaN</td>\n",
        "      <td> 07/16/2014 00:00:00</td>\n",
        "      <td> 05/05/2015 00:00:00</td>\n",
        "    </tr>\n",
        "    <tr>\n",
        "      <th>188 </th>\n",
        "      <td> 153105</td>\n",
        "      <td>  DEPT OF HEALTH/MENTAL HYGIENE</td>\n",
        "      <td> External</td>\n",
        "      <td>  1</td>\n",
        "      <td>                    Chief of Microbiology Services</td>\n",
        "      <td>        CITY RESEARCH SCIENTIST</td>\n",
        "      <td> 21744</td>\n",
        "      <td> 4B</td>\n",
        "      <td>  81595</td>\n",
        "      <td> 118597</td>\n",
        "      <td>...</td>\n",
        "      <td>                      ** Position # 352043 (Grant)</td>\n",
        "      <td> Apply online with a cover letter to https://a1...</td>\n",
        "      <td>                        </td>\n",
        "      <td>                 455 First Ave., N.Y.</td>\n",
        "      <td>NaN</td>\n",
        "      <td> New York City residency is generally required ...</td>\n",
        "      <td> 07/01/2014 00:00:00</td>\n",
        "      <td>                 NaN</td>\n",
        "      <td> 07/16/2014 00:00:00</td>\n",
        "      <td> 05/05/2015 00:00:00</td>\n",
        "    </tr>\n",
        "    <tr>\n",
        "      <th>400 </th>\n",
        "      <td> 172863</td>\n",
        "      <td>  DEPT OF HEALTH/MENTAL HYGIENE</td>\n",
        "      <td> External</td>\n",
        "      <td>  1</td>\n",
        "      <td> Section Chief for Environmental Water &amp; Scienc...</td>\n",
        "      <td>        CITY RESEARCH SCIENTIST</td>\n",
        "      <td> 21744</td>\n",
        "      <td> 03</td>\n",
        "      <td>  74478</td>\n",
        "      <td>  97875</td>\n",
        "      <td>...</td>\n",
        "      <td>                                                  </td>\n",
        "      <td> Apply online with a cover letter to https://a1...</td>\n",
        "      <td>                        </td>\n",
        "      <td> 42-09 28th Street, Queens, NY, 11101</td>\n",
        "      <td>NaN</td>\n",
        "      <td> New York City residency is generally required ...</td>\n",
        "      <td> 10/28/2014 00:00:00</td>\n",
        "      <td>                 NaN</td>\n",
        "      <td> 10/28/2014 00:00:00</td>\n",
        "      <td> 05/05/2015 00:00:00</td>\n",
        "    </tr>\n",
        "    <tr>\n",
        "      <th>401 </th>\n",
        "      <td> 172863</td>\n",
        "      <td>  DEPT OF HEALTH/MENTAL HYGIENE</td>\n",
        "      <td> Internal</td>\n",
        "      <td>  1</td>\n",
        "      <td> Section Chief for Environmental Water &amp; Scienc...</td>\n",
        "      <td>        CITY RESEARCH SCIENTIST</td>\n",
        "      <td> 21744</td>\n",
        "      <td> 03</td>\n",
        "      <td>  74478</td>\n",
        "      <td>  97875</td>\n",
        "      <td>...</td>\n",
        "      <td>                                                  </td>\n",
        "      <td> Apply online with a cover letter to https://a1...</td>\n",
        "      <td>                        </td>\n",
        "      <td> 42-09 28th Street, Queens, NY, 11101</td>\n",
        "      <td>NaN</td>\n",
        "      <td> New York City residency is generally required ...</td>\n",
        "      <td> 10/28/2014 00:00:00</td>\n",
        "      <td>                 NaN</td>\n",
        "      <td> 10/28/2014 00:00:00</td>\n",
        "      <td> 05/05/2015 00:00:00</td>\n",
        "    </tr>\n",
        "    <tr>\n",
        "      <th>1366</th>\n",
        "      <td> 185944</td>\n",
        "      <td>  DEPT OF HEALTH/MENTAL HYGIENE</td>\n",
        "      <td> External</td>\n",
        "      <td>  1</td>\n",
        "      <td> Unit Chief, Radioactive Materials Licensing, B...</td>\n",
        "      <td>        CITY RESEARCH SCIENTIST</td>\n",
        "      <td> 21744</td>\n",
        "      <td> 03</td>\n",
        "      <td>  74478</td>\n",
        "      <td>  97875</td>\n",
        "      <td>...</td>\n",
        "      <td>                                                  </td>\n",
        "      <td> Apply online with a cover letter to https://a1...</td>\n",
        "      <td>                        </td>\n",
        "      <td> 42-09 28th Street, Queens, NY, 11101</td>\n",
        "      <td>NaN</td>\n",
        "      <td> New York City residency is generally required ...</td>\n",
        "      <td> 03/05/2015 00:00:00</td>\n",
        "      <td>                 NaN</td>\n",
        "      <td> 03/05/2015 00:00:00</td>\n",
        "      <td> 05/05/2015 00:00:00</td>\n",
        "    </tr>\n",
        "    <tr>\n",
        "      <th>1367</th>\n",
        "      <td> 185944</td>\n",
        "      <td>  DEPT OF HEALTH/MENTAL HYGIENE</td>\n",
        "      <td> Internal</td>\n",
        "      <td>  1</td>\n",
        "      <td> Unit Chief, Radioactive Materials Licensing, B...</td>\n",
        "      <td>        CITY RESEARCH SCIENTIST</td>\n",
        "      <td> 21744</td>\n",
        "      <td> 03</td>\n",
        "      <td>  74478</td>\n",
        "      <td>  97875</td>\n",
        "      <td>...</td>\n",
        "      <td>                                                  </td>\n",
        "      <td> Apply online with a cover letter to https://a1...</td>\n",
        "      <td>                        </td>\n",
        "      <td> 42-09 28th Street, Queens, NY, 11101</td>\n",
        "      <td>NaN</td>\n",
        "      <td> New York City residency is generally required ...</td>\n",
        "      <td> 03/05/2015 00:00:00</td>\n",
        "      <td>                 NaN</td>\n",
        "      <td> 03/05/2015 00:00:00</td>\n",
        "      <td> 05/05/2015 00:00:00</td>\n",
        "    </tr>\n",
        "    <tr>\n",
        "      <th>2492</th>\n",
        "      <td> 192125</td>\n",
        "      <td> DEPT OF ENVIRONMENT PROTECTION</td>\n",
        "      <td> Internal</td>\n",
        "      <td>  8</td>\n",
        "      <td>                                      Deputy Chief</td>\n",
        "      <td> SENIOR STATIONARY ENGINEER (EL</td>\n",
        "      <td> 91639</td>\n",
        "      <td> 00</td>\n",
        "      <td> 109850</td>\n",
        "      <td> 109850</td>\n",
        "      <td>...</td>\n",
        "      <td> Appointments are subject to OMB approval.  For...</td>\n",
        "      <td>                        Click ''Apply Now'' button</td>\n",
        "      <td> 40 hours per week / day</td>\n",
        "      <td>                              Various</td>\n",
        "      <td>NaN</td>\n",
        "      <td> New York City residency is generally required ...</td>\n",
        "      <td> 04/29/2015 00:00:00</td>\n",
        "      <td> 05/12/2015 00:00:00</td>\n",
        "      <td> 04/29/2015 00:00:00</td>\n",
        "      <td> 05/05/2015 00:00:00</td>\n",
        "    </tr>\n",
        "    <tr>\n",
        "      <th>2493</th>\n",
        "      <td> 192125</td>\n",
        "      <td> DEPT OF ENVIRONMENT PROTECTION</td>\n",
        "      <td> External</td>\n",
        "      <td>  8</td>\n",
        "      <td>                                      Deputy Chief</td>\n",
        "      <td> SENIOR STATIONARY ENGINEER (EL</td>\n",
        "      <td> 91639</td>\n",
        "      <td> 00</td>\n",
        "      <td> 109850</td>\n",
        "      <td> 109850</td>\n",
        "      <td>...</td>\n",
        "      <td> Appointments are subject to OMB approval.  For...</td>\n",
        "      <td>                        Click ''Apply Now'' button</td>\n",
        "      <td> 40 hours per week / day</td>\n",
        "      <td>                              Various</td>\n",
        "      <td>NaN</td>\n",
        "      <td> New York City residency is generally required ...</td>\n",
        "      <td> 04/29/2015 00:00:00</td>\n",
        "      <td> 05/12/2015 00:00:00</td>\n",
        "      <td> 04/29/2015 00:00:00</td>\n",
        "      <td> 05/05/2015 00:00:00</td>\n",
        "    </tr>\n",
        "  </tbody>\n",
        "</table>\n",
        "<p>10 rows \u00d7 26 columns</p>\n",
        "</div>"
       ],
       "metadata": {},
       "output_type": "pyout",
       "prompt_number": 13,
       "text": [
        "      Job ID                          Agency Posting Type  # Of Positions  \\\n",
        "109   114352  DEPT OF ENVIRONMENT PROTECTION     Internal               5   \n",
        "133   152679  DEPT OF ENVIRONMENT PROTECTION     Internal              11   \n",
        "183   153105   DEPT OF HEALTH/MENTAL HYGIENE     Internal               1   \n",
        "188   153105   DEPT OF HEALTH/MENTAL HYGIENE     External               1   \n",
        "400   172863   DEPT OF HEALTH/MENTAL HYGIENE     External               1   \n",
        "401   172863   DEPT OF HEALTH/MENTAL HYGIENE     Internal               1   \n",
        "1366  185944   DEPT OF HEALTH/MENTAL HYGIENE     External               1   \n",
        "1367  185944   DEPT OF HEALTH/MENTAL HYGIENE     Internal               1   \n",
        "2492  192125  DEPT OF ENVIRONMENT PROTECTION     Internal               8   \n",
        "2493  192125  DEPT OF ENVIRONMENT PROTECTION     External               8   \n",
        "\n",
        "                                         Business Title  \\\n",
        "109                                  Deputy Plant Chief   \n",
        "133                                        Deputy Chief   \n",
        "183                      Chief of Microbiology Services   \n",
        "188                      Chief of Microbiology Services   \n",
        "400   Section Chief for Environmental Water & Scienc...   \n",
        "401   Section Chief for Environmental Water & Scienc...   \n",
        "1366  Unit Chief, Radioactive Materials Licensing, B...   \n",
        "1367  Unit Chief, Radioactive Materials Licensing, B...   \n",
        "2492                                       Deputy Chief   \n",
        "2493                                       Deputy Chief   \n",
        "\n",
        "                 Civil Service Title Title Code No Level  Salary Range From  \\\n",
        "109   SENIOR STATIONARY ENGINEER (EL         91639    00             109850   \n",
        "133   SENIOR STATIONARY ENGINEER (EL         91639    00             109850   \n",
        "183          CITY RESEARCH SCIENTIST         21744    4B              81595   \n",
        "188          CITY RESEARCH SCIENTIST         21744    4B              81595   \n",
        "400          CITY RESEARCH SCIENTIST         21744    03              74478   \n",
        "401          CITY RESEARCH SCIENTIST         21744    03              74478   \n",
        "1366         CITY RESEARCH SCIENTIST         21744    03              74478   \n",
        "1367         CITY RESEARCH SCIENTIST         21744    03              74478   \n",
        "2492  SENIOR STATIONARY ENGINEER (EL         91639    00             109850   \n",
        "2493  SENIOR STATIONARY ENGINEER (EL         91639    00             109850   \n",
        "\n",
        "      Salary Range To         ...           \\\n",
        "109            109850         ...            \n",
        "133            109850         ...            \n",
        "183            118597         ...            \n",
        "188            118597         ...            \n",
        "400             97875         ...            \n",
        "401             97875         ...            \n",
        "1366            97875         ...            \n",
        "1367            97875         ...            \n",
        "2492           109850         ...            \n",
        "2493           109850         ...            \n",
        "\n",
        "                                 Additional Information  \\\n",
        "109   Appointments are subject to OMB approval    Fo...   \n",
        "133   Appointments are subject to OMB approval.    F...   \n",
        "183                        ** Position # 352043 (Grant)   \n",
        "188                        ** Position # 352043 (Grant)   \n",
        "400                                                       \n",
        "401                                                       \n",
        "1366                                                      \n",
        "1367                                                      \n",
        "2492  Appointments are subject to OMB approval.  For...   \n",
        "2493  Appointments are subject to OMB approval.  For...   \n",
        "\n",
        "                                               To Apply  \\\n",
        "109                          Click ''Apply Now'' button   \n",
        "133                          Click ''Apply Now'' button   \n",
        "183   Apply online with a cover letter to https://a1...   \n",
        "188   Apply online with a cover letter to https://a1...   \n",
        "400   Apply online with a cover letter to https://a1...   \n",
        "401   Apply online with a cover letter to https://a1...   \n",
        "1366  Apply online with a cover letter to https://a1...   \n",
        "1367  Apply online with a cover letter to https://a1...   \n",
        "2492                         Click ''Apply Now'' button   \n",
        "2493                         Click ''Apply Now'' button   \n",
        "\n",
        "                  Hours/Shift                       Work Location 1  \\\n",
        "109         40 per week / day                               Various   \n",
        "133   40 hours per week / day                               Various   \n",
        "183                                            455 First Ave., N.Y.   \n",
        "188                                            455 First Ave., N.Y.   \n",
        "400                            42-09 28th Street, Queens, NY, 11101   \n",
        "401                            42-09 28th Street, Queens, NY, 11101   \n",
        "1366                           42-09 28th Street, Queens, NY, 11101   \n",
        "1367                           42-09 28th Street, Queens, NY, 11101   \n",
        "2492  40 hours per week / day                               Various   \n",
        "2493  40 hours per week / day                               Various   \n",
        "\n",
        "     Recruitment Contact                              Residency Requirement  \\\n",
        "109                  NaN  New York City residency is generally required ...   \n",
        "133                  NaN  New York City residency is generally required ...   \n",
        "183                  NaN  New York City residency is generally required ...   \n",
        "188                  NaN  New York City residency is generally required ...   \n",
        "400                  NaN  New York City residency is generally required ...   \n",
        "401                  NaN  New York City residency is generally required ...   \n",
        "1366                 NaN  New York City residency is generally required ...   \n",
        "1367                 NaN  New York City residency is generally required ...   \n",
        "2492                 NaN  New York City residency is generally required ...   \n",
        "2493                 NaN  New York City residency is generally required ...   \n",
        "\n",
        "             Posting Date           Post Until      Posting Updated  \\\n",
        "109   12/12/2012 00:00:00                  NaN  12/13/2012 00:00:00   \n",
        "133   06/23/2014 00:00:00                  NaN  06/25/2014 00:00:00   \n",
        "183   07/01/2014 00:00:00                  NaN  07/16/2014 00:00:00   \n",
        "188   07/01/2014 00:00:00                  NaN  07/16/2014 00:00:00   \n",
        "400   10/28/2014 00:00:00                  NaN  10/28/2014 00:00:00   \n",
        "401   10/28/2014 00:00:00                  NaN  10/28/2014 00:00:00   \n",
        "1366  03/05/2015 00:00:00                  NaN  03/05/2015 00:00:00   \n",
        "1367  03/05/2015 00:00:00                  NaN  03/05/2015 00:00:00   \n",
        "2492  04/29/2015 00:00:00  05/12/2015 00:00:00  04/29/2015 00:00:00   \n",
        "2493  04/29/2015 00:00:00  05/12/2015 00:00:00  04/29/2015 00:00:00   \n",
        "\n",
        "             Process Date  \n",
        "109   05/05/2015 00:00:00  \n",
        "133   05/05/2015 00:00:00  \n",
        "183   05/05/2015 00:00:00  \n",
        "188   05/05/2015 00:00:00  \n",
        "400   05/05/2015 00:00:00  \n",
        "401   05/05/2015 00:00:00  \n",
        "1366  05/05/2015 00:00:00  \n",
        "1367  05/05/2015 00:00:00  \n",
        "2492  05/05/2015 00:00:00  \n",
        "2493  05/05/2015 00:00:00  \n",
        "\n",
        "[10 rows x 26 columns]"
       ]
      }
     ],
     "prompt_number": 13
    },
    {
     "cell_type": "code",
     "collapsed": false,
     "input": [
      "set(list(top_job_df['Business Title']))"
     ],
     "language": "python",
     "metadata": {},
     "outputs": [
      {
       "metadata": {},
       "output_type": "pyout",
       "prompt_number": 18,
       "text": [
        "{'Chief of Microbiology Services',\n",
        " 'Deputy Chief',\n",
        " 'Deputy Plant Chief',\n",
        " 'Section Chief for Environmental Water & Sciences, Bureau of Environmental Sciences and Engineering',\n",
        " 'Unit Chief, Radioactive Materials Licensing, Bureau of Environmental Sciences and Engineering'}"
       ]
      }
     ],
     "prompt_number": 18
    },
    {
     "cell_type": "code",
     "collapsed": false,
     "input": [],
     "language": "python",
     "metadata": {},
     "outputs": []
    }
   ],
   "metadata": {}
  }
 ]
}